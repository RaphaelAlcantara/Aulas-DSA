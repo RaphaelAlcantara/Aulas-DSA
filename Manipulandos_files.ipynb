{
 "cells": [
  {
   "cell_type": "code",
   "execution_count": 1,
   "id": "af59c9c5",
   "metadata": {},
   "outputs": [],
   "source": [
    "#pacote OS\n",
    "import os"
   ]
  },
  {
   "cell_type": "code",
   "execution_count": 5,
   "id": "61e3054c",
   "metadata": {},
   "outputs": [],
   "source": [
    "texto = \"Cientista de dados pode ser um excelente alternativa de carreira. \\n\"\n",
    "texto = texto + \"Esses profissionais precisam saber como programar em python. \\n\"\n",
    "texto += \"E claro devem ser proficientes em Data Science.\""
   ]
  },
  {
   "cell_type": "code",
   "execution_count": 6,
   "id": "93ad724f",
   "metadata": {},
   "outputs": [
    {
     "name": "stdout",
     "output_type": "stream",
     "text": [
      "Cientista de dados pode ser um excelente alternativa de carreira. \n",
      "Esses profissionais precisam saber como programar em python. \n",
      "E claro devem ser proficientes em Data Science.\n"
     ]
    }
   ],
   "source": [
    "print(texto)"
   ]
  },
  {
   "cell_type": "code",
   "execution_count": 7,
   "id": "bb8b0582",
   "metadata": {},
   "outputs": [],
   "source": [
    "arquivo = open(os.path.join('arquivos-cap6/cientista.txt'),  'w')"
   ]
  },
  {
   "cell_type": "code",
   "execution_count": 10,
   "id": "3e9a11bb",
   "metadata": {},
   "outputs": [],
   "source": [
    "for palavra in texto.split():\n",
    "    arquivo.write(palavra + ' ')"
   ]
  },
  {
   "cell_type": "code",
   "execution_count": 12,
   "id": "f9ee99da",
   "metadata": {},
   "outputs": [],
   "source": [
    "arquivo.close()"
   ]
  },
  {
   "cell_type": "code",
   "execution_count": 14,
   "id": "530864ef",
   "metadata": {},
   "outputs": [
    {
     "data": {
      "text/plain": [
       "'Cientista de dados pode ser um excelente alternativa de carreira. Esses profissionais precisam saber como programar em python. E claro devem ser proficientes em Data Science. '"
      ]
     },
     "execution_count": 14,
     "metadata": {},
     "output_type": "execute_result"
    }
   ],
   "source": [
    "arquivo = open('arquivos-cap6/cientista.txt', 'r')\n",
    "arquivo.read()"
   ]
  },
  {
   "cell_type": "code",
   "execution_count": 18,
   "id": "2020fed2",
   "metadata": {},
   "outputs": [
    {
     "data": {
      "text/plain": [
       "'Cientista de dados pode ser um excelente alternativa de carreira. Esses profissionais precisam saber como programar em python. E claro devem ser proficientes em Data Science. '"
      ]
     },
     "execution_count": 18,
     "metadata": {},
     "output_type": "execute_result"
    }
   ],
   "source": [
    "arquivo.seek(0,0)\n",
    "arquivo.read()"
   ]
  },
  {
   "cell_type": "code",
   "execution_count": null,
   "id": "69e0bc80",
   "metadata": {},
   "outputs": [],
   "source": [
    "#with n precisa do close\n",
    "with open('arquivos-cap6/cientista.txt', 'r') as arquivo:\n",
    "    conteudo = arquivo.read()"
   ]
  },
  {
   "cell_type": "code",
   "execution_count": null,
   "id": "3647e966",
   "metadata": {},
   "outputs": [
    {
     "data": {
      "text/plain": [
       "175"
      ]
     },
     "execution_count": 55,
     "metadata": {},
     "output_type": "execute_result"
    }
   ],
   "source": [
    "len(conteudo)"
   ]
  },
  {
   "cell_type": "code",
   "execution_count": 56,
   "id": "41f23ecf",
   "metadata": {},
   "outputs": [
    {
     "name": "stdout",
     "output_type": "stream",
     "text": [
      "Cientista de dados pode ser um excelente alternativa de carreira. Esses profissionais precisam saber como programar em python. E claro devem ser proficientes em Data Science. \n"
     ]
    }
   ],
   "source": [
    "print(conteudo)"
   ]
  },
  {
   "cell_type": "code",
   "execution_count": 70,
   "id": "f6a19d66",
   "metadata": {},
   "outputs": [],
   "source": [
    "#JSON   \n",
    "dict_rapha = {'nome':'Rapha Alcantara',\n",
    "              'linguagem':'Python' , \n",
    "              'similar': ['C', 'Java', 'JS'],\n",
    "              'Users': 100000}\n",
    "\n"
   ]
  },
  {
   "cell_type": "code",
   "execution_count": 61,
   "id": "7ebbb49d",
   "metadata": {},
   "outputs": [
    {
     "name": "stdout",
     "output_type": "stream",
     "text": [
      "nome Rapha Alcantara\n",
      "linguagem Python\n",
      "similar ['C', 'Java', 'JS']\n",
      "Users 100000\n"
     ]
    }
   ],
   "source": [
    "for c, v in dict_rapha.items():\n",
    "    print(c ,v)"
   ]
  },
  {
   "cell_type": "code",
   "execution_count": 71,
   "id": "259d80cc",
   "metadata": {},
   "outputs": [],
   "source": [
    "import json"
   ]
  },
  {
   "cell_type": "code",
   "execution_count": null,
   "id": "990cd4da",
   "metadata": {},
   "outputs": [],
   "source": []
  },
  {
   "cell_type": "code",
   "execution_count": 72,
   "id": "b9e63b12",
   "metadata": {},
   "outputs": [],
   "source": [
    "with open ('arquivos-cap6/dados.json', 'w') as arquivo:\n",
    "    arquivo.write(json.dumps(dict_rapha))"
   ]
  },
  {
   "cell_type": "code",
   "execution_count": 73,
   "id": "5dbed43a",
   "metadata": {},
   "outputs": [],
   "source": [
    "with open('arquivos-cap6/dados.json', 'r') as arquivo:\n",
    "    texto = arquivo.read()\n",
    "    dados = json.loads(texto)"
   ]
  },
  {
   "cell_type": "code",
   "execution_count": 76,
   "id": "633afdbe",
   "metadata": {},
   "outputs": [
    {
     "name": "stdout",
     "output_type": "stream",
     "text": [
      "['C', 'Java', 'JS']\n"
     ]
    }
   ],
   "source": [
    "print(dados['similar'])"
   ]
  },
  {
   "cell_type": "code",
   "execution_count": null,
   "id": "68cfe04b",
   "metadata": {},
   "outputs": [],
   "source": [
    "import requests\n",
    "import json\n",
    "requests = requests.get('https://api.adviceslip.com/advice')"
   ]
  },
  {
   "cell_type": "code",
   "execution_count": 92,
   "id": "75b6799e",
   "metadata": {},
   "outputs": [],
   "source": [
    "from deep_translator import GoogleTranslator\n",
    "tradutor = GoogleTranslator(source=\"en\", target=\"pt\")\n",
    "api_retorno = json.loads(requests.content)"
   ]
  },
  {
   "cell_type": "code",
   "execution_count": 93,
   "id": "d00ee792",
   "metadata": {},
   "outputs": [
    {
     "name": "stdout",
     "output_type": "stream",
     "text": [
      "Hoje, não use as palavras \"tipo de\", \"meio que\" ou \"talvez\". Ou é ou não é.\n"
     ]
    }
   ],
   "source": [
    "frase = api_retorno['slip']['advice']\n",
    "print(tradutor.translate(frase))"
   ]
  }
 ],
 "metadata": {
  "kernelspec": {
   "display_name": "Python 3",
   "language": "python",
   "name": "python3"
  },
  "language_info": {
   "codemirror_mode": {
    "name": "ipython",
    "version": 3
   },
   "file_extension": ".py",
   "mimetype": "text/x-python",
   "name": "python",
   "nbconvert_exporter": "python",
   "pygments_lexer": "ipython3",
   "version": "3.12.4"
  }
 },
 "nbformat": 4,
 "nbformat_minor": 5
}
