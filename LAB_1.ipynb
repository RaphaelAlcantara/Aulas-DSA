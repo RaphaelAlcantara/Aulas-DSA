{
 "cells": [
  {
   "cell_type": "code",
   "execution_count": 11,
   "id": "3698348e",
   "metadata": {},
   "outputs": [
    {
     "name": "stdout",
     "output_type": "stream",
     "text": [
      "1 - Soma\n",
      "2 - Subtração\n",
      "3 - Multiplicação\n",
      "4 - Divisão\n",
      "O resultado da soma é: 7\n"
     ]
    }
   ],
   "source": [
    "def somar(n1,n2):\n",
    "    return(f\"O resultado da soma é: {n1+n2}\")\n",
    "\n",
    "def subtracao(n1,n2):\n",
    "    return(f\"O resultado da subtração é: {n1-n2}\")\n",
    "\n",
    "def multiplicacao(n1,n2):\n",
    "    return(f\"O resultado da multiplicação é: {n1*n2}\")\n",
    "\n",
    "def divisao(n1,n2):\n",
    "    return(f\"O resultado da Divisão é: {n1/n2}\")\n",
    "\n",
    "\n",
    "opcoes = [\"Soma\", \"Subtração\", \"Multiplicação\", \"Divisão\"]\n",
    "\n",
    "for index, opcao in enumerate(opcoes):\n",
    "    print(f\"{index+1} - {opcao}\")\n",
    "\n",
    "escolha = int(input(\"Digite o numero da operação: \"))\n",
    "\n",
    "n1 = int(input(\"Insira o primeiro número para a operação: \"))\n",
    "n2 = int(input(\"Insira o segundo número para a operação: \"))\n",
    "\n",
    "if escolha == 1:\n",
    "    print(somar(n1,n2))\n",
    "elif escolha == 2:\n",
    "    print(subtracao(n1,n2))    \n",
    "elif escolha == 3:\n",
    "    print(multiplicacao(n1, n2))\n",
    "elif escolha == 4:\n",
    "    if n2 != 0:\n",
    "        print(divisao(n1, n2))\n",
    "    else:\n",
    "        print(\"O divisor nao pode ser 0\")\n",
    "else:\n",
    "    print(\"Opção inválida\")\n",
    "    \n",
    "    \n",
    "    \n",
    "    "
   ]
  }
 ],
 "metadata": {
  "kernelspec": {
   "display_name": "Python 3",
   "language": "python",
   "name": "python3"
  },
  "language_info": {
   "codemirror_mode": {
    "name": "ipython",
    "version": 3
   },
   "file_extension": ".py",
   "mimetype": "text/x-python",
   "name": "python",
   "nbconvert_exporter": "python",
   "pygments_lexer": "ipython3",
   "version": "3.12.4"
  }
 },
 "nbformat": 4,
 "nbformat_minor": 5
}
