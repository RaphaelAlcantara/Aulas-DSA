{
 "cells": [
  {
   "cell_type": "code",
   "execution_count": 3,
   "id": "ea9abf91",
   "metadata": {},
   "outputs": [],
   "source": [
    "arq1 = open(\"arquivos-cap6/arquivo1.txt\", \"r\")"
   ]
  },
  {
   "cell_type": "code",
   "execution_count": 20,
   "id": "34a48a46",
   "metadata": {},
   "outputs": [
    {
     "data": {
      "text/plain": [
       "'A Data Science Academy fornece cursos de alta qualidade e que transmitem muito conhecimento.'"
      ]
     },
     "execution_count": 20,
     "metadata": {},
     "output_type": "execute_result"
    }
   ],
   "source": [
    "arq1.read()"
   ]
  },
  {
   "cell_type": "code",
   "execution_count": 19,
   "id": "0f5c0e06",
   "metadata": {},
   "outputs": [
    {
     "data": {
      "text/plain": [
       "0"
      ]
     },
     "execution_count": 19,
     "metadata": {},
     "output_type": "execute_result"
    }
   ],
   "source": [
    "arq1.seek(0,0)"
   ]
  }
 ],
 "metadata": {
  "kernelspec": {
   "display_name": "Python 3",
   "language": "python",
   "name": "python3"
  },
  "language_info": {
   "codemirror_mode": {
    "name": "ipython",
    "version": 3
   },
   "file_extension": ".py",
   "mimetype": "text/x-python",
   "name": "python",
   "nbconvert_exporter": "python",
   "pygments_lexer": "ipython3",
   "version": "3.12.4"
  }
 },
 "nbformat": 4,
 "nbformat_minor": 5
}
